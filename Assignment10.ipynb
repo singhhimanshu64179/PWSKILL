{
 "cells": [
  {
   "cell_type": "code",
   "execution_count": 1,
   "id": "ac9bb6d2-5cb4-4b8c-9ca5-71a4d70e1a59",
   "metadata": {},
   "outputs": [],
   "source": [
    "# Abstraction is one of the fundamental principles of object-oriented programming (OOP) that focuses on representing essential features and behavior of real-world objects in a simplified manner. \n",
    "# It involves hiding complex implementation details and exposing only the necessary information to interact with the object."
   ]
  },
  {
   "cell_type": "code",
   "execution_count": 2,
   "id": "54ec7a09-0c7f-474b-849d-35ff3bede284",
   "metadata": {},
   "outputs": [
    {
     "name": "stdout",
     "output_type": "stream",
     "text": [
      "Starting the sports car engine\n",
      "Driving the sports car\n",
      "Starting the sedan engine\n",
      "Driving the sedan\n"
     ]
    }
   ],
   "source": [
    "from abc import ABC, abstractmethod\n",
    "\n",
    "class Car(ABC):\n",
    "    @abstractmethod\n",
    "    def start_engine(self):\n",
    "        pass\n",
    "\n",
    "    @abstractmethod\n",
    "    def drive(self):\n",
    "        pass\n",
    "\n",
    "class SportsCar(Car):\n",
    "    def start_engine(self):\n",
    "        print(\"Starting the sports car engine\")\n",
    "\n",
    "    def drive(self):\n",
    "        print(\"Driving the sports car\")\n",
    "\n",
    "class Sedan(Car):\n",
    "    def start_engine(self):\n",
    "        print(\"Starting the sedan engine\")\n",
    "\n",
    "    def drive(self):\n",
    "        print(\"Driving the sedan\")\n",
    "\n",
    "# Creating objects of specific car types\n",
    "sports_car = SportsCar()\n",
    "sedan = Sedan()\n",
    "\n",
    "# Using the common interface provided by the abstract class\n",
    "sports_car.start_engine()\n",
    "sports_car.drive()\n",
    "\n",
    "sedan.start_engine()\n",
    "sedan.drive()"
   ]
  },
  {
   "cell_type": "code",
   "execution_count": 3,
   "id": "396acca5-3919-474f-9814-a99dcbede6b5",
   "metadata": {},
   "outputs": [],
   "source": [
    "# Abstraction focuses on simplifying and representing complex entities by defining common attributes and behaviors, while encapsulation focuses on bundling data and methods together and controlling access to them."
   ]
  },
  {
   "cell_type": "code",
   "execution_count": 5,
   "id": "9f84e324-4e71-4b26-9a4f-7fc6ce6f20a9",
   "metadata": {},
   "outputs": [],
   "source": [
    "# Abstraction provides a general interface and hides unnecessary details, while encapsulation provides data hiding and ensures controlled access to the internal state of an object."
   ]
  },
  {
   "cell_type": "code",
   "execution_count": 6,
   "id": "165bc7e2-7cee-409e-a4d4-4fca52b6aab1",
   "metadata": {},
   "outputs": [],
   "source": [
    "# Abstraction is achieved through abstract classes and interfaces, while encapsulation is achieved through access modifiers (e.g., private, public) and getter/setter methods."
   ]
  },
  {
   "cell_type": "code",
   "execution_count": 7,
   "id": "dcb2d3bb-5ea8-43f0-959b-70a3e8c5bfa3",
   "metadata": {},
   "outputs": [],
   "source": [
    "# Abstraction allows us to work with objects in a generalized manner, while encapsulation ensures data integrity and provides security by controlling access to data."
   ]
  },
  {
   "cell_type": "code",
   "execution_count": 8,
   "id": "2d38bfa4-ca6a-4fdd-8dc9-5bdb29d06801",
   "metadata": {},
   "outputs": [],
   "source": [
    "# question 3\n",
    "# The abc module in Python stands for \"Abstract Base Classes.\"\n",
    "#  is a module that provides mechanisms for defining abstract base classes in Python. \n",
    "#  abstract base class is a class that cannot be instantiated directly and is intended to be subclassed by other classes. \n",
    "# It serves as a blueprint or contract for subclasses, defining a common interface that subclasses should implement.\n",
    "#The abc module is used to define abstract base classes and enforce certain behaviors or methods that subclasses must implement. \n",
    "#It provides the ABC class and the abstractmethod decorator, which are used to mark methods as abstract."
   ]
  },
  {
   "cell_type": "code",
   "execution_count": 9,
   "id": "f6f5403e-2466-450b-884d-f55e547db248",
   "metadata": {},
   "outputs": [
    {
     "name": "stdout",
     "output_type": "stream",
     "text": [
      "Account Balance: 1300\n"
     ]
    }
   ],
   "source": [
    "# QUESTION 4\n",
    "class BankAccount:\n",
    "    def __init__(self, account_number, balance):\n",
    "        self.account_number = account_number\n",
    "        self.balance = balance\n",
    "\n",
    "    def deposit(self, amount):\n",
    "        # Perform validation and update balance\n",
    "        self.balance += amount\n",
    "\n",
    "    def withdraw(self, amount):\n",
    "        # Perform validation and update balance\n",
    "        self.balance -= amount\n",
    "\n",
    "    def get_balance(self):\n",
    "        # Return the current balance\n",
    "        return self.balance\n",
    "\n",
    "# Create an instance of the BankAccount class\n",
    "account = BankAccount('123456789', 1000)\n",
    "\n",
    "# Accessing data through methods\n",
    "account.deposit(500)\n",
    "account.withdraw(200)\n",
    "balance = account.get_balance()\n",
    "print(\"Account Balance:\", balance)"
   ]
  },
  {
   "cell_type": "code",
   "execution_count": null,
   "id": "c6ffcb12-43b4-4099-824d-36d64d7e7bbc",
   "metadata": {},
   "outputs": [],
   "source": []
  }
 ],
 "metadata": {
  "kernelspec": {
   "display_name": "Python 3 (ipykernel)",
   "language": "python",
   "name": "python3"
  },
  "language_info": {
   "codemirror_mode": {
    "name": "ipython",
    "version": 3
   },
   "file_extension": ".py",
   "mimetype": "text/x-python",
   "name": "python",
   "nbconvert_exporter": "python",
   "pygments_lexer": "ipython3",
   "version": "3.10.8"
  }
 },
 "nbformat": 4,
 "nbformat_minor": 5
}
