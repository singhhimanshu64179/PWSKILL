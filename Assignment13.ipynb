{
 "cells": [
  {
   "cell_type": "code",
   "execution_count": 1,
   "id": "8cbd63e8-ef3c-4652-a9fa-cbd65466f1d3",
   "metadata": {},
   "outputs": [],
   "source": [
    "# In Python, an exception is an event that occurs during the execution of a program and disrupts the normal flow of the program's instructions. It is a mechanism to handle errors and exceptional situations that may arise during the program's execution.\n",
    "\n",
    "# Exceptions are different from syntax errors in the following ways:\n",
    "\n",
    "# Syntax errors: Syntax errors occur when the Python interpreter encounters code that violates the language's syntax rules. These errors are detected by the interpreter during the parsing phase, before the program is executed. Syntax errors prevent the program from running at all. Examples of syntax errors include missing parentheses, invalid variable names, or incorrect indentation.\n",
    "\n",
    "# Exceptions: Exceptions occur during the execution of a program when an error or exceptional condition is encountered. Unlike syntax errors, exceptions are not detected during the parsing phase. Instead, they are raised at runtime when a specific condition occurs, such as division by zero, accessing an out-of-bounds index, or trying to open a non-existent file. Exceptions can be handled by using try-except blocks, allowing the program to gracefully handle errors and continue its execution.\n",
    "\n",
    "# In summary, syntax errors are detected before the program runs and prevent its execution, while exceptions occur during the program's execution and can be handled and recovered from using exception handling mechanisms."
   ]
  },
  {
   "cell_type": "code",
   "execution_count": 2,
   "id": "215a78fb-87ba-4309-8a19-c862ab3a15a7",
   "metadata": {},
   "outputs": [
    {
     "ename": "ZeroDivisionError",
     "evalue": "division by zero",
     "output_type": "error",
     "traceback": [
      "\u001b[0;31m---------------------------------------------------------------------------\u001b[0m",
      "\u001b[0;31mZeroDivisionError\u001b[0m                         Traceback (most recent call last)",
      "Cell \u001b[0;32mIn[2], line 11\u001b[0m\n\u001b[1;32m      8\u001b[0m num1 \u001b[38;5;241m=\u001b[39m \u001b[38;5;241m10\u001b[39m\n\u001b[1;32m      9\u001b[0m num2 \u001b[38;5;241m=\u001b[39m \u001b[38;5;241m0\u001b[39m\n\u001b[0;32m---> 11\u001b[0m result \u001b[38;5;241m=\u001b[39m \u001b[43mdivide_numbers\u001b[49m\u001b[43m(\u001b[49m\u001b[43mnum1\u001b[49m\u001b[43m,\u001b[49m\u001b[43m \u001b[49m\u001b[43mnum2\u001b[49m\u001b[43m)\u001b[49m\n\u001b[1;32m     12\u001b[0m \u001b[38;5;28mprint\u001b[39m(\u001b[38;5;124m\"\u001b[39m\u001b[38;5;124mResult:\u001b[39m\u001b[38;5;124m\"\u001b[39m, result)\n",
      "Cell \u001b[0;32mIn[2], line 5\u001b[0m, in \u001b[0;36mdivide_numbers\u001b[0;34m(a, b)\u001b[0m\n\u001b[1;32m      4\u001b[0m \u001b[38;5;28;01mdef\u001b[39;00m \u001b[38;5;21mdivide_numbers\u001b[39m(a, b):\n\u001b[0;32m----> 5\u001b[0m     result \u001b[38;5;241m=\u001b[39m \u001b[43ma\u001b[49m\u001b[43m \u001b[49m\u001b[38;5;241;43m/\u001b[39;49m\u001b[43m \u001b[49m\u001b[43mb\u001b[49m\n\u001b[1;32m      6\u001b[0m     \u001b[38;5;28;01mreturn\u001b[39;00m result\n",
      "\u001b[0;31mZeroDivisionError\u001b[0m: division by zero"
     ]
    }
   ],
   "source": [
    "# question 2\n",
    "# When an exception is not handled in Python, it results in the program terminating abruptly and displaying an error message called a traceback. The traceback provides information about the exception type, the line of code where the exception occurred, and the call stack leading up to the exception.\n",
    "# example \n",
    "def divide_numbers(a, b):\n",
    "    result = a / b\n",
    "    return result\n",
    "\n",
    "num1 = 10\n",
    "num2 = 0\n",
    "\n",
    "result = divide_numbers(num1, num2)\n",
    "print(\"Result:\", result)\n"
   ]
  },
  {
   "cell_type": "code",
   "execution_count": 3,
   "id": "6208e811-5c17-435b-b59e-74504732820b",
   "metadata": {},
   "outputs": [
    {
     "name": "stdout",
     "output_type": "stream",
     "text": [
      "Error: Division by zero is not allowed!\n"
     ]
    }
   ],
   "source": [
    "#question 3\n",
    "# try and except statements are used to catch and handle exceptions. The try block contains the code that might raise an exception, and the except block specifies the code to be executed if a specific exception is raised.\n",
    "# example\n",
    "def divide_numbers(a, b):\n",
    "    try:\n",
    "        result = a / b\n",
    "        print(\"Result:\", result)\n",
    "    except ZeroDivisionError:\n",
    "        print(\"Error: Division by zero is not allowed!\")\n",
    "\n",
    "num1 = 10\n",
    "num2 = 0\n",
    "\n",
    "divide_numbers(num1, num2)"
   ]
  },
  {
   "cell_type": "code",
   "execution_count": 4,
   "id": "14bd9ccd-1855-47b8-846d-2afd7b7a0afd",
   "metadata": {},
   "outputs": [
    {
     "name": "stdin",
     "output_type": "stream",
     "text": [
      "Enter a number:  1\n",
      "Enter another number:  0\n"
     ]
    },
    {
     "name": "stdout",
     "output_type": "stream",
     "text": [
      "Error: Division by zero is not allowed!\n"
     ]
    }
   ],
   "source": [
    "# question 4\n",
    "# a. The try and else statements are used together to specify a block of code that should be executed if no exceptions are raised in the try block. The code in the else block is executed only if the try block executes successfully without any exceptions.\n",
    "# example\n",
    "try:\n",
    "    num1 = int(input(\"Enter a number: \"))\n",
    "    num2 = int(input(\"Enter another number: \"))\n",
    "    result = num1 / num2\n",
    "except ValueError:\n",
    "    print(\"Invalid input! Please enter numbers.\")\n",
    "except ZeroDivisionError:\n",
    "    print(\"Error: Division by zero is not allowed!\")\n",
    "else:\n",
    "    print(\"The division result is:\", result)"
   ]
  },
  {
   "cell_type": "code",
   "execution_count": 5,
   "id": "198229d2-a48b-44a3-ae8f-b04ad6c6f5f1",
   "metadata": {},
   "outputs": [
    {
     "name": "stdout",
     "output_type": "stream",
     "text": [
      "File closed.\n"
     ]
    }
   ],
   "source": [
    "# b. The finally statement is used to specify a block of code that is always executed, regardless of whether an exception is raised or not. It is often used to perform cleanup actions or release resources that need to be done regardless of the outcome of the preceding code.\n",
    "# example\n",
    "try:\n",
    "    file = open(\"example.txt\", \"r\")\n",
    "    # Perform some operations on the file\n",
    "except FileNotFoundError:\n",
    "    print(\"Error: File not found!\")\n",
    "finally:\n",
    "    file.close()\n",
    "    print(\"File closed.\")\n"
   ]
  },
  {
   "cell_type": "code",
   "execution_count": 6,
   "id": "f39da5a6-205c-4e08-aca3-d6b9c3974037",
   "metadata": {},
   "outputs": [
    {
     "name": "stdout",
     "output_type": "stream",
     "text": [
      "Error: Negative numbers do not have a factorial.\n"
     ]
    }
   ],
   "source": [
    "# c. The raise statement is used to explicitly raise an exception. It allows you to generate your own exceptions and control the flow of the program based on specific conditions.\n",
    "# example\n",
    "def calculate_factorial(n):\n",
    "    if n < 0:\n",
    "        raise ValueError(\"Negative numbers do not have a factorial.\")\n",
    "    factorial = 1\n",
    "    for i in range(1, n + 1):\n",
    "        factorial *= i\n",
    "    return factorial\n",
    "\n",
    "try:\n",
    "    result = calculate_factorial(-5)\n",
    "    print(\"Factorial:\", result)\n",
    "except ValueError as e:\n",
    "    print(\"Error:\", str(e))\n"
   ]
  },
  {
   "cell_type": "code",
   "execution_count": 7,
   "id": "5ddfde97-bfe7-409d-935e-fb58e022ccb5",
   "metadata": {},
   "outputs": [
    {
     "name": "stdout",
     "output_type": "stream",
     "text": [
      "Error: Insufficient funds in account 123456. Available balance: 1000. Required amount: 1500.\n"
     ]
    }
   ],
   "source": [
    "# question 5\n",
    "# Custom exceptions in Python are user-defined exceptions that are created by subclassing the built-in Exception class or any of its subclasses. \n",
    "# By creating custom exceptions, you can define specific types of errors that are relevant to your program or application.\n",
    "# We need custom exceptions for several reasons:\n",
    "# Specific error handling: Custom exceptions allow you to handle specific types of errors in a more granular way. Instead of relying solely on built-in exceptions, you can create exceptions that are specific to your application's domain or logic.\n",
    "# Code readability and maintainability: Custom exceptions make your code more readable and self-explanatory. By raising and catching custom exceptions, you provide clear indications of the exceptional conditions that can occur in your code, making it easier for others to understand and maintain.\n",
    "# Error propagation: Custom exceptions help in propagating errors up the call stack. When a custom exception is raised, it can be caught and handled at an appropriate level in the code hierarchy, allowing for proper error handling and recovery.\n",
    "# example\n",
    "class InsufficientFundsError(Exception):\n",
    "    def __init__(self, account_number, balance, amount):\n",
    "        self.account_number = account_number\n",
    "        self.balance = balance\n",
    "        self.amount = amount\n",
    "        super().__init__(f\"Insufficient funds in account {account_number}. \"\n",
    "                         f\"Available balance: {balance}. Required amount: {amount}.\")\n",
    "\n",
    "\n",
    "class BankAccount:\n",
    "    def __init__(self, account_number, balance):\n",
    "        self.account_number = account_number\n",
    "        self.balance = balance\n",
    "\n",
    "    def withdraw(self, amount):\n",
    "        if amount > self.balance:\n",
    "            raise InsufficientFundsError(self.account_number, self.balance, amount)\n",
    "        self.balance -= amount\n",
    "        print(f\"Withdrawal of {amount} from account {self.account_number} successful.\")\n",
    "\n",
    "# Usage example\n",
    "account = BankAccount(\"123456\", 1000)\n",
    "\n",
    "try:\n",
    "    account.withdraw(1500)\n",
    "except InsufficientFundsError as e:\n",
    "    print(f\"Error: {str(e)}\")"
   ]
  },
  {
   "cell_type": "code",
   "execution_count": null,
   "id": "56667124-9b51-41a1-b789-d831452217d1",
   "metadata": {},
   "outputs": [],
   "source": []
  }
 ],
 "metadata": {
  "kernelspec": {
   "display_name": "Python 3 (ipykernel)",
   "language": "python",
   "name": "python3"
  },
  "language_info": {
   "codemirror_mode": {
    "name": "ipython",
    "version": 3
   },
   "file_extension": ".py",
   "mimetype": "text/x-python",
   "name": "python",
   "nbconvert_exporter": "python",
   "pygments_lexer": "ipython3",
   "version": "3.10.8"
  }
 },
 "nbformat": 4,
 "nbformat_minor": 5
}
