{
 "cells": [
  {
   "cell_type": "code",
   "execution_count": 1,
   "id": "dfedf948-7d57-41e0-81dc-2e77b0dc064f",
   "metadata": {},
   "outputs": [],
   "source": [
    "# question 1\n",
    "# open() function is used to open a file\n",
    "# different modes of opening file\n",
    "# 1. 'r' (Read Mode): This is the default mode and is used to open a file for reading. \n",
    "#The file pointer is positioned at the beginning of the file. If the file does not exist, an error is raised.\n",
    "# 2.'w' (Write Mode): This mode is used to open a file for writing. \n",
    "# If the file exists, its contents are truncated. If the file does not exist, a new file is created.\n",
    "# The file pointer is positioned at the beginning of the file.\n",
    "# 3. 'a' (Append Mode): This mode is used to open a file for appending data.\n",
    "# If the file exists, new data is written at the end of the file. \n",
    "# If the file does not exist, a new file is created. \n",
    "# The file pointer is positioned at the end of the file.\n",
    "# 4. 'x' (Exclusive Creation Mode): This mode is used to open a file for exclusive creation\n",
    "# If the file already exists, an error is raised.\n",
    "# 5. 'b' (Binary Mode): This mode is used for binary file operations.\n",
    "# It can be added to any of the above modes to specify that the file should be treated as a binary file.\n",
    "# 6. 't' (Text Mode): This mode is used for text file operations. It is the default mode and can be omitted. \n",
    "# Text mode is used to read or write textual data.\n",
    "# 7. '+' (Read/Write Mode): This mode is used to open a file for both reading and writing.\n",
    "file = open('example.txt', 'w')\n",
    "file.write('Hello, world!')\n",
    "file.close()"
   ]
  },
  {
   "cell_type": "code",
   "execution_count": 2,
   "id": "fd5adb12-9858-4319-a341-20038a91901c",
   "metadata": {},
   "outputs": [],
   "source": [
    "# question 2\n",
    "# The close() function is used to close a file that was opened using the open() function.\n",
    "# resons for closing a file\n",
    "# Release system resources\n",
    "# Flush data to disk\n",
    "# Prevent data corruption\n",
    "# Allow other processes to access the file"
   ]
  },
  {
   "cell_type": "code",
   "execution_count": 3,
   "id": "f556099b-c268-4e84-af68-32f4e6826414",
   "metadata": {},
   "outputs": [
    {
     "name": "stdout",
     "output_type": "stream",
     "text": [
      "I want to become a Data Scientist\n"
     ]
    }
   ],
   "source": [
    "# question 3\n",
    "file_name = \"sample.txt\"\n",
    "content = \"I want to become a Data Scientist\"\n",
    "\n",
    "with open(file_name, 'w') as file:\n",
    "    file.write(content)\n",
    "\n",
    "with open(file_name, 'r') as file:\n",
    "    file_content = file.read()\n",
    "\n",
    "print(file_content)\n"
   ]
  },
  {
   "cell_type": "code",
   "execution_count": 4,
   "id": "8d625fbd-723a-47ae-803f-b1b2035cc347",
   "metadata": {},
   "outputs": [],
   "source": [
    "# question 4\n",
    "# read(): The read() method is used to read the entire content of a file as a single string.\n",
    "# readline(): The readline() method is used to read a single line from a file.\n",
    "# readlines(): The readlines() method is used to read all the lines from a file and return them as a list."
   ]
  },
  {
   "cell_type": "code",
   "execution_count": 5,
   "id": "6aaeb6be-cc58-4794-91cf-6a88b260b465",
   "metadata": {},
   "outputs": [],
   "source": [
    "# question 5\n",
    "# The with statement is used with the open() function in Python to ensure proper handling of resources, such as files. It provides a convenient and reliable way to work with external resources and automatically takes care of closing the resource when it's no longer needed.\n",
    "# with statement with open() improves code reliability, reduces the risk of resource leaks, and simplifies error handling. It is considered a best practice when working with resources that need to be properly managed, such as files."
   ]
  },
  {
   "cell_type": "code",
   "execution_count": null,
   "id": "516b26e1-ce5f-49ad-a080-1c1d227d82c6",
   "metadata": {},
   "outputs": [],
   "source": [
    "# question 6\n",
    "# The write() function in Python is used to write a string or bytes to a file. It takes a string or bytes object as an argument and writes it to the file at the current file position. If the file does not exist, it will be created. If the file already exists, the write() function will overwrite its contents. The write() function returns the number of characters or bytes written to the file.\n",
    "# Open the file in write mode\n",
    "file = open(\"example.txt\", \"w\")\n",
    "file.write(\"Hello, World!\\n\")\n",
    "file.write(\"This is a sample text.\")\n",
    "file.close()\n",
    "# "
   ]
  }
 ],
 "metadata": {
  "kernelspec": {
   "display_name": "Python 3 (ipykernel)",
   "language": "python",
   "name": "python3"
  },
  "language_info": {
   "codemirror_mode": {
    "name": "ipython",
    "version": 3
   },
   "file_extension": ".py",
   "mimetype": "text/x-python",
   "name": "python",
   "nbconvert_exporter": "python",
   "pygments_lexer": "ipython3",
   "version": "3.10.8"
  }
 },
 "nbformat": 4,
 "nbformat_minor": 5
}
