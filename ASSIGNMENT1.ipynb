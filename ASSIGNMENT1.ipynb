{
 "cells": [
  {
   "cell_type": "code",
   "execution_count": 3,
   "id": "e7025f9b-134e-4461-a183-e624fa76c0c1",
   "metadata": {},
   "outputs": [],
   "source": [
    "### for loop is an iteration method that is best used when we know the numbelow by the r of iteration ahead. it always folintilization,expression and increment statement."
   ]
  },
  {
   "cell_type": "code",
   "execution_count": 4,
   "id": "8ca75735-f0b0-4557-9b0a-7ed77502f13b",
   "metadata": {},
   "outputs": [],
   "source": [
    "### while loop is an iteration method that is best used when we don't know the number of iteration ahead.The contents of the loop are executed as long as the expression evaluates to true."
   ]
  },
  {
   "cell_type": "code",
   "execution_count": 8,
   "id": "fe849057-522f-48e2-887e-abbfe36f0d52",
   "metadata": {},
   "outputs": [
    {
     "name": "stdout",
     "output_type": "stream",
     "text": [
      "1\n",
      "2\n",
      "3\n"
     ]
    }
   ],
   "source": [
    "### example of for loop\n",
    "\n",
    "n = [1, 2, 3]\n",
    "for i in n:  \n",
    "    print(i)"
   ]
  },
  {
   "cell_type": "code",
   "execution_count": 10,
   "id": "14e71cae-858d-4c25-a4b7-d99fc4e743a0",
   "metadata": {},
   "outputs": [
    {
     "name": "stdout",
     "output_type": "stream",
     "text": [
      "1\n",
      "2\n",
      "3\n",
      "4\n",
      "5\n"
     ]
    }
   ],
   "source": [
    "### example of while\n",
    "\n",
    "i = 1\n",
    "while i < 6: \n",
    "    print(i)\n",
    "    i += 1"
   ]
  },
  {
   "cell_type": "code",
   "execution_count": 1,
   "id": "5b5cb26c-1ead-4e53-8428-fa6b881e4daf",
   "metadata": {},
   "outputs": [
    {
     "name": "stdout",
     "output_type": "stream",
     "text": [
      "Sum of the first 10 natural numbers: 55\n"
     ]
    }
   ],
   "source": [
    "####question 2\n",
    "# Sum using for loop\n",
    "sum = 0\n",
    "for i in range(1, 11):\n",
    "    sum += i\n",
    "print(\"Sum of the first 10 natural numbers:\", sum)"
   ]
  },
  {
   "cell_type": "code",
   "execution_count": 2,
   "id": "29ad485c-4afd-4373-855a-b9ddf94a6062",
   "metadata": {},
   "outputs": [
    {
     "name": "stdout",
     "output_type": "stream",
     "text": [
      "Sum of the first 10 natural numbers: 55\n"
     ]
    }
   ],
   "source": [
    "# Sum using while loop\n",
    "sum = 0\n",
    "counter = 0\n",
    "while counter <= 10:\n",
    "    sum += counter\n",
    "    counter += 1\n",
    "\n",
    "print(\"Sum of the first 10 natural numbers:\", sum)"
   ]
  },
  {
   "cell_type": "code",
   "execution_count": 3,
   "id": "35704730-11cc-4f92-be55-6de9d94fd216",
   "metadata": {},
   "outputs": [
    {
     "name": "stdin",
     "output_type": "stream",
     "text": [
      "Enter the units of electricity consumed:  310\n"
     ]
    },
    {
     "name": "stdout",
     "output_type": "stream",
     "text": [
      "Total electricity bill: 2250.0\n"
     ]
    }
   ],
   "source": [
    "## question 3\n",
    "def calculate_electricity_bill(units):\n",
    "    total_bill = 0\n",
    "\n",
    "    if units <= 100:\n",
    "        total_bill = units * 4.5\n",
    "    elif units <= 200:\n",
    "        total_bill = 100 * 4.5 + (units - 100) * 6\n",
    "    elif units <= 300:\n",
    "        total_bill = 100 * 4.5 + 100 * 6 + (units - 200) * 10\n",
    "    else:\n",
    "        total_bill = 100 * 4.5 + 100 * 6 + 100 * 10 + (units - 300) * 20\n",
    "\n",
    "    return total_bill\n",
    "\n",
    "# Example usage\n",
    "units_consumed = int(input(\"Enter the units of electricity consumed: \"))\n",
    "bill = calculate_electricity_bill(units_consumed)\n",
    "print(\"Total electricity bill:\", bill)"
   ]
  },
  {
   "cell_type": "code",
   "execution_count": 9,
   "id": "a6e2eb49-1834-4d26-ba87-3a8fbc49c789",
   "metadata": {},
   "outputs": [
    {
     "name": "stdout",
     "output_type": "stream",
     "text": [
      "[2, 4, 5, 6, 8, 10, 12, 14, 15, 16, 18, 20, 22, 24, 25, 26, 28, 30, 32, 34, 35, 36, 38, 40, 42, 44, 45, 46, 48, 50, 52, 54, 55, 56, 58, 60, 62, 64, 65, 66, 68, 70, 72, 74, 75, 76, 78, 80, 82, 84, 85, 86, 88, 90, 92, 94, 95, 96, 98, 100]\n"
     ]
    }
   ],
   "source": [
    "## question 4\n",
    "## for loop\n",
    "number = list(range(1,101))\n",
    "result_list = []\n",
    "for i in number:\n",
    "    cube = i**3\n",
    "    if cube % 4 == 0 or cube % 5 ==0:\n",
    "        result_list.append(i)\n",
    "print(result_list)\n"
   ]
  },
  {
   "cell_type": "code",
   "execution_count": 10,
   "id": "776cf1e3-0a50-4e43-a18b-cf58593385b0",
   "metadata": {},
   "outputs": [
    {
     "name": "stdout",
     "output_type": "stream",
     "text": [
      "[2, 4, 5, 6, 8, 10, 12, 14, 15, 16, 18, 20, 22, 24, 25, 26, 28, 30, 32, 34, 35, 36, 38, 40, 42, 44, 45, 46, 48, 50, 52, 54, 55, 56, 58, 60, 62, 64, 65, 66, 68, 70, 72, 74, 75, 76, 78, 80, 82, 84, 85, 86, 88, 90, 92, 94, 95, 96, 98, 100]\n"
     ]
    }
   ],
   "source": [
    "## for while \n",
    "\n",
    "numbers = list(range(1, 101))\n",
    "result_list = []\n",
    "index = 0\n",
    "while index < len(numbers):\n",
    "    num = numbers[index]\n",
    "    cube = num ** 3\n",
    "    if cube % 4 == 0 or cube % 5 == 0:\n",
    "        result_list.append(num)\n",
    "    index += 1\n",
    "print(result_list)"
   ]
  },
  {
   "cell_type": "code",
   "execution_count": null,
   "id": "e85958d6-dbaf-45d2-b43a-a67747bad764",
   "metadata": {},
   "outputs": [],
   "source": []
  }
 ],
 "metadata": {
  "kernelspec": {
   "display_name": "Python 3 (ipykernel)",
   "language": "python",
   "name": "python3"
  },
  "language_info": {
   "codemirror_mode": {
    "name": "ipython",
    "version": 3
   },
   "file_extension": ".py",
   "mimetype": "text/x-python",
   "name": "python",
   "nbconvert_exporter": "python",
   "pygments_lexer": "ipython3",
   "version": "3.10.8"
  }
 },
 "nbformat": 4,
 "nbformat_minor": 5
}
