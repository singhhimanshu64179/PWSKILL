{
 "cells": [
  {
   "cell_type": "code",
   "execution_count": 1,
   "id": "2f971f97-7b73-4f31-9d0f-c5fe3065ab95",
   "metadata": {},
   "outputs": [],
   "source": [
    "# Qestion 1\n",
    "# Guido van Rossum"
   ]
  },
  {
   "cell_type": "code",
   "execution_count": 2,
   "id": "8b1a6c3a-c706-4764-81c8-7186cf60e8b8",
   "metadata": {},
   "outputs": [],
   "source": [
    "#question 2\n",
    "# Pythons supports OOPs,Procedural Programming,Functional Programming,Imperative Programming and Scripting"
   ]
  },
  {
   "cell_type": "code",
   "execution_count": 3,
   "id": "b87a4550-2197-43e3-92be-60add79f22dc",
   "metadata": {},
   "outputs": [],
   "source": [
    "# question 3\n",
    "# Yes, Python is case-sensitive when dealing with identifiers."
   ]
  },
  {
   "cell_type": "code",
   "execution_count": 4,
   "id": "263e2023-c77b-4bbd-8f1a-db4353ba73a2",
   "metadata": {},
   "outputs": [],
   "source": [
    "# question 4\n",
    "# The correct extension for a Python file is \".py\""
   ]
  },
  {
   "cell_type": "code",
   "execution_count": 5,
   "id": "5edf7353-2f7f-4720-99e6-419c8744f688",
   "metadata": {},
   "outputs": [],
   "source": [
    "# question 5\n",
    "# yes"
   ]
  },
  {
   "cell_type": "code",
   "execution_count": 6,
   "id": "158eea3f-3d87-43aa-a1ed-393fa0431ecc",
   "metadata": {},
   "outputs": [],
   "source": [
    "# question 6\n",
    "# In Python, code blocks are defined using indentation. The following are some examples of code blocks used in Python:\n",
    "# Function Definition Block\n",
    "# def my_function():\n",
    "     # Code block of the function\n",
    "\n",
    "# Conditional Statement Block\n",
    "#if condition:\n",
    "     # Code block executed if the condition is True\n",
    "#elif condition:\n",
    "     # Code block executed if the previous condition is False and this condition is True\n",
    "#else:\n",
    "     # Code block executed if all previous conditions are False\n",
    "\n",
    "# Loop Blocks (for loop, while loop):\n",
    "#for item in iterable:\n",
    "     # Code block executed for each item in the iterable\n",
    "\n",
    "#while condition:\n",
    "     # Code block executed repeatedly as long as the condition is True\n",
    "\n",
    "# Class Definition Block:   \n",
    "# class MyClass:\n",
    "     # Code block of the class"
   ]
  },
  {
   "cell_type": "code",
   "execution_count": 7,
   "id": "616bf3bb-fa1a-4614-8a52-ddf64e7bb955",
   "metadata": {},
   "outputs": [],
   "source": [
    "# questipn 7\n",
    "# The character used to indicate a single-line comment in Python is the hash symbol (#)."
   ]
  },
  {
   "cell_type": "code",
   "execution_count": 8,
   "id": "e8a389a8-1b29-4b8c-93b3-e5f3a0c33631",
   "metadata": {},
   "outputs": [],
   "source": [
    "# Question 8\n",
    "# sys.version and platform.python_version()"
   ]
  },
  {
   "cell_type": "code",
   "execution_count": 9,
   "id": "ff16a39f-18e8-4fe7-8525-4d840c9480ad",
   "metadata": {},
   "outputs": [],
   "source": [
    "# question 9\n",
    "# Python supports the creation of anonymous functions at runtime, using a construct called lambda functions."
   ]
  },
  {
   "cell_type": "code",
   "execution_count": 10,
   "id": "c5fd24f4-0780-467f-a309-f0a53d1229ef",
   "metadata": {},
   "outputs": [],
   "source": [
    "# question 10\n",
    "# PIP stands for \"Pip Installs Packages\""
   ]
  },
  {
   "cell_type": "code",
   "execution_count": 11,
   "id": "8ccceaf6-e8f3-48d7-9782-5c7a1ffd1606",
   "metadata": {},
   "outputs": [],
   "source": [
    "# question 11\n",
    "# print(): Used to output text or variables to the console.\n",
    "#len(): Returns the length of an object, such as a string, list, or tuple.\n",
    "#input(): Reads input from the user through the console.\n",
    "#type(): Returns the data type of an object.\n",
    "#range(): Generates a sequence of numbers.\n",
    "#sum(): Calculates the sum of a sequence of numbers.\n",
    "#max(): Returns the maximum value from a sequence.\n",
    "#min(): Returns the minimum value from a sequence."
   ]
  },
  {
   "cell_type": "code",
   "execution_count": 12,
   "id": "4f0ddd75-917a-46d1-8955-8478e4002d05",
   "metadata": {},
   "outputs": [],
   "source": [
    "# qestion 12\n",
    "# maximum length of 79 characters"
   ]
  },
  {
   "cell_type": "code",
   "execution_count": 13,
   "id": "4959704a-9380-4fd6-9ab3-d1378e4e8090",
   "metadata": {},
   "outputs": [],
   "source": [
    "# question 13\n",
    "# benefit pf ]ython is Readability,simplicity,large standard language etc."
   ]
  },
  {
   "cell_type": "code",
   "execution_count": 14,
   "id": "8e205b9d-73aa-4a20-adf3-2777fa551b1c",
   "metadata": {},
   "outputs": [],
   "source": [
    "# question 14\n",
    "# Memory management in Python is handled automatically by the Python interpreter through a mechanism called garbage collection."
   ]
  },
  {
   "cell_type": "code",
   "execution_count": null,
   "id": "571778b0-a8e3-4583-a7f6-3c646a45c7bd",
   "metadata": {},
   "outputs": [],
   "source": [
    "# question 15\n",
    "# To install Python on Windows and set up path variables, you can follow these steps:\n",
    "\n",
    "Visit the official Python website at https://www.python.org/downloads/ and download the latest version of Python for Windows.\n",
    "\n",
    "Run the installer and select the option to install Python. Make sure to check the box that says \"Add Python to PATH\" during the installation process. This will automatically set the path variables for Python.\n",
    "\n",
    "Follow the on-screen instructions to complete the installation. Once the installation is finished, Python should be successfully installed on your Windows system."
   ]
  }
 ],
 "metadata": {
  "kernelspec": {
   "display_name": "Python 3 (ipykernel)",
   "language": "python",
   "name": "python3"
  },
  "language_info": {
   "codemirror_mode": {
    "name": "ipython",
    "version": 3
   },
   "file_extension": ".py",
   "mimetype": "text/x-python",
   "name": "python",
   "nbconvert_exporter": "python",
   "pygments_lexer": "ipython3",
   "version": "3.10.8"
  }
 },
 "nbformat": 4,
 "nbformat_minor": 5
}
