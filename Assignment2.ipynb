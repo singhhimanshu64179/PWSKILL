{
 "cells": [
  {
   "cell_type": "code",
   "execution_count": 1,
   "id": "750a5026-1429-449f-88c0-104b196a2d28",
   "metadata": {},
   "outputs": [],
   "source": [
    "## The keyword used to create a function in Python is def.\n",
    "def get_odd_numbers():\n",
    "    odd_numbers = []\n",
    "    for num in range(1, 26):\n",
    "        if num % 2 != 0:\n",
    "            odd_numbers.append(num)\n",
    "    return odd_numbers"
   ]
  },
  {
   "cell_type": "code",
   "execution_count": 5,
   "id": "4a6b8427-585f-4745-b227-257f462ddfec",
   "metadata": {},
   "outputs": [
    {
     "name": "stdout",
     "output_type": "stream",
     "text": [
      "Hello World!\n"
     ]
    }
   ],
   "source": [
    "## question 2\n",
    "# args\n",
    "#*args is used to pass a variable number of non-keyword arguments to a function. \n",
    "#It allows you to pass any number of positional arguments as a tuple to the function. \n",
    "#The asterisk (*) before args unpacks the arguments passed and collects them into a tuple.\n",
    "\n",
    "# kwargs\n",
    "#**kwargs is used to pass a variable number of keyword arguments to a function. \n",
    "#It allows you to pass any number of keyword arguments as a dictionary to the function. \n",
    "#The double asterisks (**) before kwargs unpacks the keyword arguments passed and collects them into a dictionary.\n",
    "\n",
    "# example of args\n",
    "def concatenate_strings(*args):\n",
    "    result = \"\"\n",
    "    for string in args:\n",
    "        result += string\n",
    "    return result\n",
    "result = concatenate_strings(\"Hello\", \" \", \"World\", \"!\")\n",
    "print(result)"
   ]
  },
  {
   "cell_type": "code",
   "execution_count": 6,
   "id": "df80e40e-7811-4600-8860-e0509dc5aadb",
   "metadata": {},
   "outputs": [
    {
     "name": "stdout",
     "output_type": "stream",
     "text": [
      "name: Himanshu Singh\n",
      "age: 25\n",
      "city: Patna\n"
     ]
    }
   ],
   "source": [
    "# example of kwargs\n",
    "def print_person_info(**kwargs):\n",
    "    for key, value in kwargs.items():\n",
    "        print(key + \":\", value)\n",
    "print_person_info(name=\"Himanshu Singh\", age=25, city=\"Patna\")"
   ]
  },
  {
   "cell_type": "code",
   "execution_count": 7,
   "id": "3661c924-d1d0-454b-b9bb-848162d66d99",
   "metadata": {},
   "outputs": [
    {
     "name": "stdout",
     "output_type": "stream",
     "text": [
      "2\n",
      "4\n",
      "6\n",
      "8\n",
      "10\n"
     ]
    }
   ],
   "source": [
    "# question 3\n",
    "\n",
    "# an iterator is an object that allows you to iterate over a collection of elements one at a time.\n",
    "# Iterators are used to implement iterable objects, such as lists, tuples, dictionaries, and custom objects, that can be iterated over using a for loop or by using the next() function.\n",
    "# To initialize an iterator object, you can use the iter() function.\n",
    "# To iterate over the elements using the iterator object, you can use the next() function\n",
    "my_list = [2, 4, 6, 8, 10, 12, 14, 16, 18, 20]\n",
    "my_iterator = iter(my_list)\n",
    "\n",
    "for _ in range(5):\n",
    "    element = next(my_iterator)\n",
    "    print(element)\n"
   ]
  },
  {
   "cell_type": "code",
   "execution_count": 8,
   "id": "183b1504-1a3b-450c-af0b-05f8980a48cb",
   "metadata": {},
   "outputs": [
    {
     "name": "stdout",
     "output_type": "stream",
     "text": [
      "0\n",
      "2\n",
      "4\n",
      "6\n",
      "8\n"
     ]
    }
   ],
   "source": [
    "# question 4\n",
    "# generator function is a special type of function that returns an iterator\n",
    "# The yield keyword is used in generator functions to define the points at which the function should yield a value.\n",
    "def generate_even_numbers():\n",
    "    num = 0\n",
    "    while True:\n",
    "        yield num\n",
    "        num += 2\n",
    "even_generator = generate_even_numbers()\n",
    "# Print the first five even numbers\n",
    "for _ in range(5):\n",
    "    even_number = next(even_generator)\n",
    "    print(even_number)\n"
   ]
  },
  {
   "cell_type": "code",
   "execution_count": 1,
   "id": "72326b09-37dd-4a17-97fa-3494bc5ce430",
   "metadata": {},
   "outputs": [
    {
     "name": "stdout",
     "output_type": "stream",
     "text": [
      "2\n",
      "3\n",
      "5\n",
      "7\n",
      "11\n",
      "13\n",
      "17\n",
      "19\n",
      "23\n",
      "29\n",
      "31\n",
      "37\n",
      "41\n",
      "43\n",
      "47\n",
      "53\n",
      "59\n",
      "61\n",
      "67\n",
      "71\n"
     ]
    }
   ],
   "source": [
    "# question 5\n",
    "def generate_primes():\n",
    "    primes = []\n",
    "    num = 2\n",
    "\n",
    "    while True:\n",
    "        if all(num % prime != 0 for prime in primes):\n",
    "            primes.append(num)\n",
    "            yield num\n",
    "        num += 1\n",
    "prime_generator = generate_primes()\n",
    "for _ in range(20):\n",
    "    prime_number = next(prime_generator)\n",
    "    print(prime_number)\n"
   ]
  },
  {
   "cell_type": "code",
   "execution_count": 2,
   "id": "d8c614b9-16a4-40d6-a3c1-7c425a34b999",
   "metadata": {},
   "outputs": [
    {
     "name": "stdout",
     "output_type": "stream",
     "text": [
      "0\n",
      "1\n",
      "1\n",
      "2\n",
      "3\n",
      "5\n",
      "8\n",
      "13\n",
      "21\n",
      "34\n"
     ]
    }
   ],
   "source": [
    "# question 6\n",
    "\n",
    "count = 0\n",
    "num1 = 0\n",
    "num2 = 1\n",
    "\n",
    "while count < 10:\n",
    "    print(num1)\n",
    "    temp = num1 + num2\n",
    "    num1 = num2\n",
    "    num2 = temp\n",
    "    count += 1\n"
   ]
  },
  {
   "cell_type": "code",
   "execution_count": 3,
   "id": "ec22238b-2a1c-48c0-9436-668b8e4e374a",
   "metadata": {},
   "outputs": [
    {
     "name": "stdout",
     "output_type": "stream",
     "text": [
      "['p', 'w', 's', 'k', 'i', 'l', 'l', 's']\n"
     ]
    }
   ],
   "source": [
    "# question 7\n",
    "\n",
    "string = 'pwskills'\n",
    "output = [char for char in string if char in 'pwskills']\n",
    "\n",
    "print(output)\n"
   ]
  },
  {
   "cell_type": "code",
   "execution_count": 5,
   "id": "80302b42-c891-4ec4-9279-4a416c31c024",
   "metadata": {},
   "outputs": [
    {
     "name": "stdin",
     "output_type": "stream",
     "text": [
      "Enter a number:  12321\n"
     ]
    },
    {
     "name": "stdout",
     "output_type": "stream",
     "text": [
      "12321 is a palindrome\n"
     ]
    }
   ],
   "source": [
    "# question 8\n",
    "\n",
    "def is_palindrome(number):\n",
    "    temp = number\n",
    "    reverse = 0\n",
    "\n",
    "    while temp > 0:\n",
    "        digit = temp % 10\n",
    "        reverse = (reverse * 10) + digit\n",
    "        temp //= 10\n",
    "\n",
    "    if number == reverse:\n",
    "        return True\n",
    "    else:\n",
    "        return False\n",
    "number = int(input(\"Enter a number: \"))\n",
    "\n",
    "if is_palindrome(number):\n",
    "    print(number, \"is a palindrome\")\n",
    "else:\n",
    "    print(number, \"is not a palindrome\")\n"
   ]
  },
  {
   "cell_type": "code",
   "execution_count": null,
   "id": "fcf53874-7915-44b0-ba46-fb2189863747",
   "metadata": {},
   "outputs": [],
   "source": []
  }
 ],
 "metadata": {
  "kernelspec": {
   "display_name": "Python 3 (ipykernel)",
   "language": "python",
   "name": "python3"
  },
  "language_info": {
   "codemirror_mode": {
    "name": "ipython",
    "version": 3
   },
   "file_extension": ".py",
   "mimetype": "text/x-python",
   "name": "python",
   "nbconvert_exporter": "python",
   "pygments_lexer": "ipython3",
   "version": "3.10.8"
  }
 },
 "nbformat": 4,
 "nbformat_minor": 5
}
