{
 "cells": [
  {
   "cell_type": "code",
   "execution_count": 1,
   "id": "75e99158-90e8-4823-9602-9b813011a027",
   "metadata": {},
   "outputs": [
    {
     "name": "stdin",
     "output_type": "stream",
     "text": [
      "Enter the percentage:  95\n"
     ]
    },
    {
     "name": "stdout",
     "output_type": "stream",
     "text": [
      "Grade: A\n"
     ]
    }
   ],
   "source": [
    "# questin 1\n",
    "percentage = float(input(\"Enter the percentage: \"))\n",
    "\n",
    "if percentage > 90:\n",
    "    grade = \"A\"\n",
    "elif percentage > 80 and percentage <= 90:\n",
    "    grade = \"B\"\n",
    "elif percentage >= 60 and percentage <= 80:\n",
    "    grade = \"C\"\n",
    "else:\n",
    "    grade = \"D\"\n",
    "\n",
    "print(\"Grade:\", grade)"
   ]
  },
  {
   "cell_type": "code",
   "execution_count": 2,
   "id": "e5cac3d3-6d41-4c83-b3ec-5c1dfcced4ed",
   "metadata": {},
   "outputs": [
    {
     "name": "stdin",
     "output_type": "stream",
     "text": [
      "Enter the cost price of the bike (in Rs):  70000\n"
     ]
    },
    {
     "name": "stdout",
     "output_type": "stream",
     "text": [
      "Road tax to be paid: Rs 7000.0\n"
     ]
    }
   ],
   "source": [
    "# question 2\n",
    "cost_price = float(input(\"Enter the cost price of the bike (in Rs): \"))\n",
    "if cost_price > 100000:\n",
    "    tax = cost_price * 0.15\n",
    "elif cost_price > 50000 and cost_price <= 100000:\n",
    "    tax = cost_price * 0.10\n",
    "else:\n",
    "    tax = cost_price * 0.05\n",
    "print(\"Road tax to be paid: Rs\", tax)"
   ]
  },
  {
   "cell_type": "code",
   "execution_count": 3,
   "id": "ae66b277-4ea3-4055-8f2e-ea5c2641a2bc",
   "metadata": {},
   "outputs": [
    {
     "name": "stdin",
     "output_type": "stream",
     "text": [
      "Enter the name of a city:  delhi\n"
     ]
    },
    {
     "name": "stdout",
     "output_type": "stream",
     "text": [
      "Monument in delhi : Red Fort\n"
     ]
    }
   ],
   "source": [
    "# question 3\n",
    "city = input(\"Enter the name of a city: \")\n",
    "\n",
    "if city.lower() == \"delhi\":\n",
    "    monument = \"Red Fort\"\n",
    "elif city.lower() == \"agra\":\n",
    "    monument = \"Taj Mahal\"\n",
    "elif city.lower() == \"jaipur\":\n",
    "    monument = \"Jal Mahal\"\n",
    "else:\n",
    "    monument = \"Monument not found\"\n",
    "\n",
    "print(\"Monument in\", city, \":\", monument)"
   ]
  },
  {
   "cell_type": "code",
   "execution_count": 5,
   "id": "951cf5d4-98ae-4a91-a1bf-064c30abe64e",
   "metadata": {},
   "outputs": [
    {
     "name": "stdin",
     "output_type": "stream",
     "text": [
      "Enter a number:  40\n"
     ]
    },
    {
     "name": "stdout",
     "output_type": "stream",
     "text": [
      "The number can be divided by 3 is 2 times before it is less than or equal to 10.\n"
     ]
    }
   ],
   "source": [
    "# question 4\n",
    "number = int(input(\"Enter a number: \"))\n",
    "count = 0\n",
    "while number > 10:\n",
    "    number /= 3\n",
    "    count += 1\n",
    "print(\"The number can be divided by 3 is\", count, \"times before it is less than or equal to 10.\")"
   ]
  },
  {
   "cell_type": "code",
   "execution_count": 6,
   "id": "b5edb904-823d-40c2-96d8-cf7a38175dc9",
   "metadata": {},
   "outputs": [
    {
     "name": "stdout",
     "output_type": "stream",
     "text": [
      "1\n",
      "2\n",
      "3\n",
      "4\n",
      "5\n"
     ]
    }
   ],
   "source": [
    "# question 5\n",
    "# The while loop is used in Python to execute a block of code repeatedly as long as a certain condition is true. \n",
    "# It allows you to repeat a set of instructions until the condition becomes false. \n",
    "# The while loop is useful when the number of iterations is not known beforehand, and you want to continue executing the code until a specific condition is met.\n",
    "count = 1\n",
    "\n",
    "while count <= 5:\n",
    "    print(count)\n",
    "    count += 1"
   ]
  },
  {
   "cell_type": "code",
   "execution_count": 7,
   "id": "1ee3f749-5e88-48bc-8de0-76e324df24d6",
   "metadata": {},
   "outputs": [
    {
     "name": "stdout",
     "output_type": "stream",
     "text": [
      "* * * * * \n",
      "* * * * * \n",
      "* * * * * \n",
      "* * * * * \n",
      "* * * * * \n"
     ]
    }
   ],
   "source": [
    "# question 6\n",
    "n = 5\n",
    "row = 1\n",
    "while row <= n:\n",
    "    col = 1\n",
    "    while col <= n:\n",
    "        print('*', end=' ')\n",
    "        col += 1\n",
    "    print()\n",
    "    row += 1"
   ]
  },
  {
   "cell_type": "code",
   "execution_count": 8,
   "id": "387cdaad-271e-45e5-8401-97e87d5d4db5",
   "metadata": {},
   "outputs": [
    {
     "name": "stdout",
     "output_type": "stream",
     "text": [
      "* \n",
      "* * \n",
      "* * * \n",
      "* * * * \n",
      "* * * * * \n"
     ]
    }
   ],
   "source": [
    "n = 5\n",
    "row = 1\n",
    "\n",
    "while row <= n:\n",
    "    col = 1\n",
    "    while col <= row:\n",
    "        print('*', end=' ')\n",
    "        col += 1\n",
    "    print()\n",
    "    row += 1"
   ]
  },
  {
   "cell_type": "code",
   "execution_count": 9,
   "id": "15828b24-7906-4765-8936-57f487970b3f",
   "metadata": {},
   "outputs": [
    {
     "name": "stdout",
     "output_type": "stream",
     "text": [
      "        * \n",
      "      * * * \n",
      "    * * * * * \n",
      "  * * * * * * * \n",
      "* * * * * * * * * \n"
     ]
    }
   ],
   "source": [
    "n = 5\n",
    "row = 1\n",
    "\n",
    "while row <= n:\n",
    "    spaces = n - row\n",
    "    while spaces > 0:\n",
    "        print(' ', end=' ')\n",
    "        spaces -= 1\n",
    "    stars = 2 * row - 1\n",
    "    while stars > 0:\n",
    "        print('*', end=' ')\n",
    "        stars -= 1\n",
    "    print()\n",
    "    row += 1"
   ]
  },
  {
   "cell_type": "code",
   "execution_count": 10,
   "id": "7aa7c95b-7963-48f3-a1a2-46c2b30dba1e",
   "metadata": {},
   "outputs": [
    {
     "name": "stdout",
     "output_type": "stream",
     "text": [
      "10\n",
      "9\n",
      "8\n",
      "7\n",
      "6\n",
      "5\n",
      "4\n",
      "3\n",
      "2\n",
      "1\n"
     ]
    }
   ],
   "source": [
    "# question 7\n",
    "num = 10\n",
    "\n",
    "while num >= 1:\n",
    "    print(num)\n",
    "    num -= 1"
   ]
  },
  {
   "cell_type": "code",
   "execution_count": null,
   "id": "b24a15f5-7a36-4b3c-846a-a104576820e0",
   "metadata": {},
   "outputs": [],
   "source": [
    "# qustion 8 \n",
    "number = 10\n",
    "while number >=1:\n",
    "    print(number)\n",
    "    number -= 1"
   ]
  },
  {
   "cell_type": "code",
   "execution_count": null,
   "id": "1793d03d-e151-4aff-8a1f-19c4def1dac8",
   "metadata": {},
   "outputs": [],
   "source": [
    "#"
   ]
  }
 ],
 "metadata": {
  "kernelspec": {
   "display_name": "Python 3 (ipykernel)",
   "language": "python",
   "name": "python3"
  },
  "language_info": {
   "codemirror_mode": {
    "name": "ipython",
    "version": 3
   },
   "file_extension": ".py",
   "mimetype": "text/x-python",
   "name": "python",
   "nbconvert_exporter": "python",
   "pygments_lexer": "ipython3",
   "version": "3.10.8"
  }
 },
 "nbformat": 4,
 "nbformat_minor": 5
}
