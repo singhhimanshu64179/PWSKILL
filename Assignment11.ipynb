{
 "cells": [
  {
   "cell_type": "code",
   "execution_count": 1,
   "id": "3395152f-56a6-4b0d-9165-40cb59224cdd",
   "metadata": {},
   "outputs": [],
   "source": [
    "# question 1\n",
    "class Vehicle:\n",
    "    def __init__(self, name_of_vehicle, max_speed, average_of_vehicle):\n",
    "        self.name_of_vehicle = name_of_vehicle\n",
    "        self.max_speed = max_speed\n",
    "        self.average_of_vehicle = average_of_vehicle"
   ]
  },
  {
   "cell_type": "code",
   "execution_count": 2,
   "id": "ad690d5e-499e-438a-b1b2-796dd37b5bd4",
   "metadata": {},
   "outputs": [
    {
     "name": "stdout",
     "output_type": "stream",
     "text": [
      "Toyota Camry has a seating capacity of 5.\n"
     ]
    }
   ],
   "source": [
    "# question 2\n",
    "class Car(Vehicle):\n",
    "    def seating_capacity(self, capacity):\n",
    "        return f\"{self.name_of_vehicle} has a seating capacity of {capacity}.\"\n",
    "\n",
    "car1 = Car(\"Toyota Camry\", 200, 35)\n",
    "print(car1.seating_capacity(5)) "
   ]
  },
  {
   "cell_type": "code",
   "execution_count": 3,
   "id": "b0e85883-80f7-458b-8568-54a6634f799a",
   "metadata": {},
   "outputs": [
    {
     "name": "stdout",
     "output_type": "stream",
     "text": [
      "Car Name: Toyota Camry\n",
      "Car Color: Red\n",
      "Engine started.\n"
     ]
    }
   ],
   "source": [
    "# question 3\n",
    "# Multiple inheritance is a feature in object-oriented programming where a class can inherit attributes and methods from multiple parent classes. \n",
    "#It allows a subclass to inherit from multiple superclasses, thus providing more flexibility in code reuse and hierarchy structuring.\n",
    "class Vehicle:\n",
    "    def __init__(self, name):\n",
    "        self.name = name\n",
    "\n",
    "    def display_info(self):\n",
    "        print(f\"Vehicle Name: {self.name}\")\n",
    "\n",
    "\n",
    "class Engine:\n",
    "    def start_engine(self):\n",
    "        print(\"Engine started.\")\n",
    "\n",
    "\n",
    "class Car(Vehicle, Engine):\n",
    "    def __init__(self, name, color):\n",
    "        Vehicle.__init__(self, name)\n",
    "        self.color = color\n",
    "\n",
    "    def display_info(self):\n",
    "        print(f\"Car Name: {self.name}\")\n",
    "        print(f\"Car Color: {self.color}\")\n",
    "\n",
    "\n",
    "# Create an instance of the Car class and demonstrate multiple inheritance\n",
    "my_car = Car(\"Toyota Camry\", \"Red\")\n",
    "my_car.display_info()  \n",
    "my_car.start_engine() \n"
   ]
  },
  {
   "cell_type": "code",
   "execution_count": 5,
   "id": "92bd11cd-4b64-4f78-aaee-0f958284509e",
   "metadata": {},
   "outputs": [
    {
     "name": "stdout",
     "output_type": "stream",
     "text": [
      "Himanshu\n",
      "Anshu\n",
      "25\n",
      "Age cannot be negative.\n"
     ]
    }
   ],
   "source": [
    "# question 4\n",
    "# getter and setter methods are used to control the access and modification of class attributes.\n",
    "# They provide a way to retrieve (get) and modify (set) the values of private attributes in a controlled manner.\n",
    "class Person:\n",
    "    def __init__(self, name, age):\n",
    "        self._name = name  # Private attribute\n",
    "        self._age = age    # Private attribute\n",
    "\n",
    "    def get_name(self):\n",
    "        return self._name\n",
    "\n",
    "    def set_name(self, name):\n",
    "        self._name = name\n",
    "\n",
    "    def get_age(self):\n",
    "        return self._age\n",
    "\n",
    "    def set_age(self, age):\n",
    "        if age >= 0:\n",
    "            self._age = age\n",
    "        else:\n",
    "            print(\"Age cannot be negative.\")\n",
    "\n",
    "person = Person(\"Himanshu\", 25)\n",
    "\n",
    "print(person.get_name())\n",
    "\n",
    "person.set_name(\"Anshu\")\n",
    "\n",
    "print(person.get_name()) \n",
    "\n",
    "print(person.get_age())  \n",
    "\n",
    "person.set_age(-30)  \n"
   ]
  },
  {
   "cell_type": "code",
   "execution_count": 6,
   "id": "acf37c2b-4619-43aa-a4c0-07e4925cf92b",
   "metadata": {},
   "outputs": [
    {
     "name": "stdout",
     "output_type": "stream",
     "text": [
      "Calculating area of Rectangle\n",
      "Rectangle area: 15\n",
      "Calculating area of Circle\n",
      "Circle area: 12.566\n"
     ]
    }
   ],
   "source": [
    "# question 5\n",
    "# Method overriding in Python is a feature that allows a subclass to provide a different implementation of a method that is already defined in its superclass.\n",
    "# The overridden method in the subclass has the same name as the method in the superclass but provides a modified or completely different implementation.\n",
    "class Shape:\n",
    "    def area(self):\n",
    "        print(\"Calculating area of Shape\")\n",
    "\n",
    "\n",
    "class Rectangle(Shape):\n",
    "    def __init__(self, length, width):\n",
    "        self.length = length\n",
    "        self.width = width\n",
    "\n",
    "    def area(self):\n",
    "        print(\"Calculating area of Rectangle\")\n",
    "        return self.length * self.width\n",
    "\n",
    "\n",
    "class Circle(Shape):\n",
    "    def __init__(self, radius):\n",
    "        self.radius = radius\n",
    "\n",
    "    def area(self):\n",
    "        print(\"Calculating area of Circle\")\n",
    "        return 3.1415 * self.radius * self.radius\n",
    "\n",
    "\n",
    "rectangle = Rectangle(5, 3)\n",
    "circle = Circle(2)\n",
    "\n",
    "rectangle_area = rectangle.area()  \n",
    "print(\"Rectangle area:\", rectangle_area)  \n",
    "\n",
    "circle_area = circle.area()  \n",
    "print(\"Circle area:\", circle_area)  \n"
   ]
  },
  {
   "cell_type": "code",
   "execution_count": null,
   "id": "e8af4438-f4ed-48e6-8f71-a0d14472b229",
   "metadata": {},
   "outputs": [],
   "source": []
  }
 ],
 "metadata": {
  "kernelspec": {
   "display_name": "Python 3 (ipykernel)",
   "language": "python",
   "name": "python3"
  },
  "language_info": {
   "codemirror_mode": {
    "name": "ipython",
    "version": 3
   },
   "file_extension": ".py",
   "mimetype": "text/x-python",
   "name": "python",
   "nbconvert_exporter": "python",
   "pygments_lexer": "ipython3",
   "version": "3.10.8"
  }
 },
 "nbformat": 4,
 "nbformat_minor": 5
}
