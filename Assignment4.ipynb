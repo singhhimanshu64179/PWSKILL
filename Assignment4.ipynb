{
 "cells": [
  {
   "cell_type": "code",
   "execution_count": 2,
   "id": "f0ed0448-acfd-4f58-8ee9-7b2d57645149",
   "metadata": {},
   "outputs": [
    {
     "name": "stdout",
     "output_type": "stream",
     "text": [
      "Toyota\n",
      "Civic\n",
      "The car has started.\n",
      "The car is accelerating.\n"
     ]
    }
   ],
   "source": [
    "#question 1\n",
    "# a class is a blueprint or template that defines the properties and behaviors of objects. \n",
    "# It serves as a blueprint for creating objects, which are instances of the class. \n",
    "# An object, on the other hand, is an instance of a class. It is a concrete entity created from a class that has its own unique identity and state. \n",
    "# Objects can access the attributes and methods defined in the class and can interact with other objects.\n",
    "# Let's consider an example to understand the concept of a class and an object. \n",
    "# Suppose we have a class called Car that represents a generic car. \n",
    "# The Car class can have attributes like brand, model, color, and methods like start(), accelerate(), brake(), etc.\n",
    "class Car:\n",
    "    def __init__(self, brand, model, color):\n",
    "        self.brand = brand\n",
    "        self.model = model\n",
    "        self.color = color\n",
    "\n",
    "    def start(self):\n",
    "        print(\"The car has started.\")\n",
    "\n",
    "    def accelerate(self):\n",
    "        print(\"The car is accelerating.\")\n",
    "\n",
    "    def brake(self):\n",
    "        print(\"The car is braking.\")\n",
    "# Creating objects\n",
    "car1 = Car(\"Toyota\", \"Corolla\", \"Red\")\n",
    "car2 = Car(\"Honda\", \"Civic\", \"Blue\")\n",
    "print(car1.brand)  \n",
    "print(car2.model) \n",
    "car1.start()       \n",
    "car2.accelerate() "
   ]
  },
  {
   "cell_type": "code",
   "execution_count": 3,
   "id": "383bc745-7b84-434e-88e2-c62a111cbad3",
   "metadata": {},
   "outputs": [],
   "source": [
    "# question 2\n",
    "# 1. inheritance\n",
    "# 2. polymorphism\n",
    "# 3. Encapsulation\n",
    "# 4. Abstraction"
   ]
  },
  {
   "cell_type": "code",
   "execution_count": 1,
   "id": "088d73ff-6647-4b7e-9708-5f41a47c9911",
   "metadata": {},
   "outputs": [],
   "source": [
    "# question 3\n",
    "# The __init__() function is a special method in Python classes that is used for initializing the attributes of an object when it is created. \n",
    "# It is also known as the constructor method. \n",
    "# The __init__() method is automatically called when an object is instantiated from a class.\n",
    "# The __init__() function is a special method in Python classes that is used for initializing the attributes of an object when it is created. \n",
    "# It is also known as the constructor method. \n",
    "# The __init__() method is automatically called when an object is instantiated from a class."
   ]
  },
  {
   "cell_type": "code",
   "execution_count": 2,
   "id": "ef128a72-7723-4c4b-828f-e05c7dcfd651",
   "metadata": {},
   "outputs": [],
   "source": [
    "# question 4\n",
    "# The self keyword is used to refer to the instance of a class within the class itself.\n",
    "# It is a common convention in Python to use self as the name for the first parameter in instance methods, although you can use any valid variable name."
   ]
  },
  {
   "cell_type": "code",
   "execution_count": null,
   "id": "7eac546f-894f-4693-ac72-5b6db1c64a0e",
   "metadata": {},
   "outputs": [],
   "source": [
    "# question 5\n",
    "# inheritance allows one class to inherit the properties and behaviors (attributes and methods) of another class. \n"
   ]
  }
 ],
 "metadata": {
  "kernelspec": {
   "display_name": "Python 3 (ipykernel)",
   "language": "python",
   "name": "python3"
  },
  "language_info": {
   "codemirror_mode": {
    "name": "ipython",
    "version": 3
   },
   "file_extension": ".py",
   "mimetype": "text/x-python",
   "name": "python",
   "nbconvert_exporter": "python",
   "pygments_lexer": "ipython3",
   "version": "3.10.8"
  }
 },
 "nbformat": 4,
 "nbformat_minor": 5
}
